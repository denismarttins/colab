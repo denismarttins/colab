{
  "nbformat": 4,
  "nbformat_minor": 0,
  "metadata": {
    "colab": {
      "name": "Tutorial Google Pegasus-xsum",
      "provenance": [],
      "collapsed_sections": [],
      "authorship_tag": "ABX9TyN4o+y5ZBs7OY12/+iE9wbx",
      "include_colab_link": true
    },
    "kernelspec": {
      "name": "python3",
      "display_name": "Python 3"
    },
    "language_info": {
      "name": "python"
    }
  },
  "cells": [
    {
      "cell_type": "markdown",
      "metadata": {
        "id": "view-in-github",
        "colab_type": "text"
      },
      "source": [
        "<a href=\"https://colab.research.google.com/github/denismarttins/colab/blob/main/Tutorial_Google_Pegasus_xsum.ipynb\" target=\"_parent\"><img src=\"https://colab.research.google.com/assets/colab-badge.svg\" alt=\"Open In Colab\"/></a>"
      ]
    },
    {
      "cell_type": "code",
      "execution_count": null,
      "metadata": {
        "id": "ILhMOCUvAcFd"
      },
      "outputs": [],
      "source": [
        "#BIBLIOTECAS USADAS\n",
        "!pip3 install torch torchvision torchaudio --extra-index-url https://download.pytorch.org/whl/cu113\n",
        "!pip3 install transformers\n",
        "!pip3 install sentencepiece"
      ]
    },
    {
      "cell_type": "code",
      "source": [
        "#IMPORTANDO MÓDULOS DO TRANSFORMERS \n",
        "from transformers import AutoTokenizer, AutoModelForSeq2SeqLM"
      ],
      "metadata": {
        "id": "vQdTWP92_-fg"
      },
      "execution_count": 3,
      "outputs": []
    },
    {
      "cell_type": "code",
      "source": [
        "#DECLARANDO AS VARIÁVEIS QUE VÃO TRANSFORMAR O TEXTO EM TOKENS E DEPOIS O MODELO PARA RESUMIR ESSES TOKENS\n",
        "tokenizer = AutoTokenizer.from_pretrained(\"google/pegasus-xsum\")\n",
        "model = AutoModelForSeq2SeqLM.from_pretrained(\"google/pegasus-xsum\")"
      ],
      "metadata": {
        "id": "qpNkcw06_-yV"
      },
      "execution_count": null,
      "outputs": []
    },
    {
      "cell_type": "code",
      "source": [
        "#VARIÁVEL QUE RECEBE O TEXTO\n",
        "text = \"JavaScript is a text-based programming language used both on the client-side and server-side that allows you to make web pages interactive. Where HTML and CSS are languages that give structure and style to web pages, JavaScript gives web pages interactive elements that engage a user. Common examples of JavaScript that you might use every day include the search box on Amazon, a news recap video embedded on The New York Times, or refreshing your Twitter feed. Incorporating JavaScript improves the user experience of the web page by converting it from a static page into an interactive one. To recap, JavaScript adds behavior to web pages\""
      ],
      "metadata": {
        "id": "ZhEiiv27__Ep"
      },
      "execution_count": 5,
      "outputs": []
    },
    {
      "cell_type": "code",
      "source": [
        "#GERANDO OS TOKENS\n",
        "tokens = tokenizer(text, truncation=True, padding=\"longest\", return_tensors=\"pt\")"
      ],
      "metadata": {
        "id": "y93IYMLlC3HF"
      },
      "execution_count": 6,
      "outputs": []
    },
    {
      "cell_type": "code",
      "source": [
        "#IMPRIMINDO OS TOKENS\n",
        "tokens"
      ],
      "metadata": {
        "id": "q4hmNYWQC3Xp"
      },
      "execution_count": null,
      "outputs": []
    },
    {
      "cell_type": "code",
      "source": [
        "#RESUMINDO OS TOKENS\n",
        "summary = model.generate(**tokens)"
      ],
      "metadata": {
        "id": "oPP21ro6YF5D"
      },
      "execution_count": 8,
      "outputs": []
    },
    {
      "cell_type": "code",
      "source": [
        "#IMPRIMINDO OS TOKENS RESUMIDOS\n",
        "summary[0]"
      ],
      "metadata": {
        "id": "FofWqS0tYlzi"
      },
      "execution_count": null,
      "outputs": []
    },
    {
      "cell_type": "code",
      "source": [
        "#DECODIFICANDO OS TOKENS PARA PALAVRAS\n",
        "result = tokenizer.decode(summary[0])"
      ],
      "metadata": {
        "id": "WKKpI_uaYwTv"
      },
      "execution_count": 10,
      "outputs": []
    },
    {
      "cell_type": "code",
      "source": [
        "#IMPRIMINDO O RESULTADO\n",
        "result"
      ],
      "metadata": {
        "id": "YPuGTwhzbZIQ"
      },
      "execution_count": null,
      "outputs": []
    },
    {
      "cell_type": "markdown",
      "source": [
        "**FONTES:** \\\n",
        "https://huggingface.co/google/pegasus-xsum \\\n",
        "https://huggingface.co/docs/transformers/pad_truncation \\\n",
        "https://pytorch.org/get-started/locally/ \\\n",
        "Video Nicholas que motivou o tutorial: https://youtu.be/Yo5Hw8aV3vY\n"
      ],
      "metadata": {
        "id": "Ziu-v94310Ee"
      }
    }
  ]
}