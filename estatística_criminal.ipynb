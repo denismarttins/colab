{
  "cells": [
    {
      "cell_type": "markdown",
      "metadata": {
        "id": "view-in-github",
        "colab_type": "text"
      },
      "source": [
        "<a href=\"https://colab.research.google.com/github/denismarttins/colab/blob/main/estat%C3%ADstica_criminal.ipynb\" target=\"_parent\"><img src=\"https://colab.research.google.com/assets/colab-badge.svg\" alt=\"Open In Colab\"/></a>"
      ]
    },
    {
      "cell_type": "markdown",
      "source": [
        "**Fonte das informações:**\n",
        "http://www.ssp.sp.gov.br/transparenciassp/\n",
        "https://colab.research.google.com/notebooks/io.ipynb\n"
      ],
      "metadata": {
        "id": "GuCcN-u1DnnE"
      }
    },
    {
      "cell_type": "code",
      "source": [
        "#BIBLIOTECAS USADAS \n",
        "!pip install pandas\n",
        "!pip install --upgrade gspread\n",
        "import pandas as pd"
      ],
      "metadata": {
        "id": "VE3mW08MgM6X"
      },
      "execution_count": null,
      "outputs": []
    },
    {
      "cell_type": "code",
      "source": [
        "#AUTENTICAÇÃO PARA USAR ARQUIVOS\n",
        "from google.colab import auth\n",
        "auth.authenticate_user()\n",
        "\n",
        "import gspread\n",
        "from google.auth import default\n",
        "creds, _ = default()\n",
        "\n",
        "gc = gspread.authorize(creds)"
      ],
      "metadata": {
        "id": "yd_ci7wXnPVQ"
      },
      "execution_count": null,
      "outputs": []
    },
    {
      "cell_type": "code",
      "source": [
        "#BUSCANDO O ARQUIVO E ARMAZENANDO NUMA VARIÁVEL\n",
        "furtos_celular = gc.open(\"furtos_celular\")\n",
        "feminicidio = gc.open(\"feminicidio\")\n",
        "roubos_celular = gc.open(\"roubo_celular\")\n",
        "celular = furtos_celular.sheet1\n",
        "mortes = feminicidio.sheet1\n",
        "roubos = roubos_celular.sheet1"
      ],
      "metadata": {
        "id": "hly3XKnk66Do"
      },
      "execution_count": null,
      "outputs": []
    },
    {
      "cell_type": "code",
      "source": [
        "#FUNÇÃO QUE IRÁ SELECIONAR E EXIBIR OS DADOS\n",
        "def escolha (dados):\n",
        "  if dados == \"celular\":\n",
        "    #OPÇÃO PARA MOSTRAR A COLUNA É return celular.row.values (1)\n",
        "    celular.row_values(1)\n",
        "    df = pd.DataFrame(celular.get_all_records())\n",
        "    filtros = df[['PERIDOOCORRENCIA','LOGRADOURO', 'NUMERO', 'BAIRRO', 'CIDADE','MARCA_CELULAR']]\n",
        "    display(filtros)\n",
        "    #DADOS NOS GRÁFICOS\n",
        "    filtros.groupby(['MARCA_CELULAR']).MARCA_CELULAR.count().plot(kind=\"bar\")\n",
        "  elif dados == \"mortes\":\n",
        "    mortes.row_values(1)\n",
        "    df = pd.DataFrame(mortes.get_all_records())\n",
        "    filtros = df[['MUNICIPIO_CIRCUNSCRICAO','DATA_FATO', 'HORA_FATO', 'DESC_TIPOLOCAL', 'IDADE_PESSOA', 'COR_PELE']]\n",
        "    display(filtros)\n",
        "    #DADOS NOS GRÁFICOS\n",
        "    filtros.groupby(['COR_PELE']).COR_PELE.count().plot(kind=\"barh\")\n",
        "  elif dados == \"roubos\":\n",
        "    roubos.row_values(1)\n",
        "    df = pd.DataFrame(roubos.get_all_records())\n",
        "    filtros = df[['PERIDOOCORRENCIA','LOGRADOURO', 'NUMERO', 'BAIRRO', 'CIDADE','MARCA_CELULAR']]\n",
        "    display(filtros)\n",
        "    #DADOS NOS GRÁFICOS\n",
        "    filtros.groupby(['MARCA_CELULAR']).MARCA_CELULAR.count().plot(kind=\"barh\")\n",
        "  else:\n",
        "    print(\"Opção inválida!\")"
      ],
      "metadata": {
        "id": "PdTtgLjA4N2J"
      },
      "execution_count": null,
      "outputs": []
    },
    {
      "cell_type": "code",
      "source": [
        "show_info = input(\"Digite qual dado quer exibir: celular - mortes - roubos => \")"
      ],
      "metadata": {
        "colab": {
          "base_uri": "https://localhost:8080/"
        },
        "id": "LpmPM-0A4zZH",
        "outputId": "bc610d4e-2557-4774-9adb-9ed0e0e5c8ef"
      },
      "execution_count": null,
      "outputs": [
        {
          "name": "stdout",
          "output_type": "stream",
          "text": [
            "Digite qual dado quer exibir: celular - mortes - roubos => roubos\n"
          ]
        }
      ]
    },
    {
      "cell_type": "code",
      "source": [
        "info = escolha(show_info)\n",
        "#print(info)"
      ],
      "metadata": {
        "colab": {
          "base_uri": "https://localhost:8080/",
          "height": 671
        },
        "id": "JQfQ1Unh6ogg",
        "outputId": "904b1456-3765-4ef2-e95e-6b22c4bb0498"
      },
      "execution_count": null,
      "outputs": [
        {
          "output_type": "display_data",
          "data": {
            "text/plain": [
              "     PERIDOOCORRENCIA                            LOGRADOURO  NUMERO  \\\n",
              "0             A NOITE  Rodovia Engenheiro Geraldo Mantovani     1.0   \n",
              "1             A NOITE                        RODOVIA SP 330    67.0   \n",
              "2             A NOITE       RUA JORNALISTA PAULO MARTINELLI   417.0   \n",
              "3             A TARDE                            RUA TAMÔIO   343.0   \n",
              "4     EM HORA INCERTA                    AVENIDA DA SAUDADE   354.0   \n",
              "...               ...                                   ...     ...   \n",
              "1165     DE MADRUGADA                        RODOVIA SP 354     5.0   \n",
              "1166     DE MADRUGADA                        RODOVIA SP 354     5.0   \n",
              "1167          A TARDE                                           0.0   \n",
              "1168          A NOITE                       RUA FREI CANECA   148.0   \n",
              "1169          A NOITE           AVENIDA DOUTOR MORAES SALES   413.0   \n",
              "\n",
              "                        BAIRRO       CIDADE MARCA_CELULAR  \n",
              "0               Estância Suíça  SERRA NEGRA      Motorola  \n",
              "1                CIDADE JARDIM     LOUVEIRA       Samsung  \n",
              "2           JARDIM IPAUSSURAMA     CAMPINAS       SAMSUNG  \n",
              "3                        RURAL   INDAIATUBA        OUTROS  \n",
              "4                  PONTE PRETA     CAMPINAS       SAMSUNG  \n",
              "...                        ...          ...           ...  \n",
              "1165         BAIRRO DOS SOARES       JARINU         Apple  \n",
              "1166         BAIRRO DOS SOARES       JARINU         Apple  \n",
              "1167  Residencial Vida Nova II      VINHEDO        Outros  \n",
              "1168    VILA ARENS E PROGRESSO      JUNDIAI          Asus  \n",
              "1169                    CENTRO     CAMPINAS        Xiaomi  \n",
              "\n",
              "[1170 rows x 6 columns]"
            ],
            "text/html": [
              "\n",
              "  <div id=\"df-468dbe36-594e-4863-bd6d-12a549ad165d\">\n",
              "    <div class=\"colab-df-container\">\n",
              "      <div>\n",
              "<style scoped>\n",
              "    .dataframe tbody tr th:only-of-type {\n",
              "        vertical-align: middle;\n",
              "    }\n",
              "\n",
              "    .dataframe tbody tr th {\n",
              "        vertical-align: top;\n",
              "    }\n",
              "\n",
              "    .dataframe thead th {\n",
              "        text-align: right;\n",
              "    }\n",
              "</style>\n",
              "<table border=\"1\" class=\"dataframe\">\n",
              "  <thead>\n",
              "    <tr style=\"text-align: right;\">\n",
              "      <th></th>\n",
              "      <th>PERIDOOCORRENCIA</th>\n",
              "      <th>LOGRADOURO</th>\n",
              "      <th>NUMERO</th>\n",
              "      <th>BAIRRO</th>\n",
              "      <th>CIDADE</th>\n",
              "      <th>MARCA_CELULAR</th>\n",
              "    </tr>\n",
              "  </thead>\n",
              "  <tbody>\n",
              "    <tr>\n",
              "      <th>0</th>\n",
              "      <td>A NOITE</td>\n",
              "      <td>Rodovia Engenheiro Geraldo Mantovani</td>\n",
              "      <td>1.0</td>\n",
              "      <td>Estância Suíça</td>\n",
              "      <td>SERRA NEGRA</td>\n",
              "      <td>Motorola</td>\n",
              "    </tr>\n",
              "    <tr>\n",
              "      <th>1</th>\n",
              "      <td>A NOITE</td>\n",
              "      <td>RODOVIA SP 330</td>\n",
              "      <td>67.0</td>\n",
              "      <td>CIDADE JARDIM</td>\n",
              "      <td>LOUVEIRA</td>\n",
              "      <td>Samsung</td>\n",
              "    </tr>\n",
              "    <tr>\n",
              "      <th>2</th>\n",
              "      <td>A NOITE</td>\n",
              "      <td>RUA JORNALISTA PAULO MARTINELLI</td>\n",
              "      <td>417.0</td>\n",
              "      <td>JARDIM IPAUSSURAMA</td>\n",
              "      <td>CAMPINAS</td>\n",
              "      <td>SAMSUNG</td>\n",
              "    </tr>\n",
              "    <tr>\n",
              "      <th>3</th>\n",
              "      <td>A TARDE</td>\n",
              "      <td>RUA TAMÔIO</td>\n",
              "      <td>343.0</td>\n",
              "      <td>RURAL</td>\n",
              "      <td>INDAIATUBA</td>\n",
              "      <td>OUTROS</td>\n",
              "    </tr>\n",
              "    <tr>\n",
              "      <th>4</th>\n",
              "      <td>EM HORA INCERTA</td>\n",
              "      <td>AVENIDA DA SAUDADE</td>\n",
              "      <td>354.0</td>\n",
              "      <td>PONTE PRETA</td>\n",
              "      <td>CAMPINAS</td>\n",
              "      <td>SAMSUNG</td>\n",
              "    </tr>\n",
              "    <tr>\n",
              "      <th>...</th>\n",
              "      <td>...</td>\n",
              "      <td>...</td>\n",
              "      <td>...</td>\n",
              "      <td>...</td>\n",
              "      <td>...</td>\n",
              "      <td>...</td>\n",
              "    </tr>\n",
              "    <tr>\n",
              "      <th>1165</th>\n",
              "      <td>DE MADRUGADA</td>\n",
              "      <td>RODOVIA SP 354</td>\n",
              "      <td>5.0</td>\n",
              "      <td>BAIRRO DOS SOARES</td>\n",
              "      <td>JARINU</td>\n",
              "      <td>Apple</td>\n",
              "    </tr>\n",
              "    <tr>\n",
              "      <th>1166</th>\n",
              "      <td>DE MADRUGADA</td>\n",
              "      <td>RODOVIA SP 354</td>\n",
              "      <td>5.0</td>\n",
              "      <td>BAIRRO DOS SOARES</td>\n",
              "      <td>JARINU</td>\n",
              "      <td>Apple</td>\n",
              "    </tr>\n",
              "    <tr>\n",
              "      <th>1167</th>\n",
              "      <td>A TARDE</td>\n",
              "      <td></td>\n",
              "      <td>0.0</td>\n",
              "      <td>Residencial Vida Nova II</td>\n",
              "      <td>VINHEDO</td>\n",
              "      <td>Outros</td>\n",
              "    </tr>\n",
              "    <tr>\n",
              "      <th>1168</th>\n",
              "      <td>A NOITE</td>\n",
              "      <td>RUA FREI CANECA</td>\n",
              "      <td>148.0</td>\n",
              "      <td>VILA ARENS E PROGRESSO</td>\n",
              "      <td>JUNDIAI</td>\n",
              "      <td>Asus</td>\n",
              "    </tr>\n",
              "    <tr>\n",
              "      <th>1169</th>\n",
              "      <td>A NOITE</td>\n",
              "      <td>AVENIDA DOUTOR MORAES SALES</td>\n",
              "      <td>413.0</td>\n",
              "      <td>CENTRO</td>\n",
              "      <td>CAMPINAS</td>\n",
              "      <td>Xiaomi</td>\n",
              "    </tr>\n",
              "  </tbody>\n",
              "</table>\n",
              "<p>1170 rows × 6 columns</p>\n",
              "</div>\n",
              "      <button class=\"colab-df-convert\" onclick=\"convertToInteractive('df-468dbe36-594e-4863-bd6d-12a549ad165d')\"\n",
              "              title=\"Convert this dataframe to an interactive table.\"\n",
              "              style=\"display:none;\">\n",
              "        \n",
              "  <svg xmlns=\"http://www.w3.org/2000/svg\" height=\"24px\"viewBox=\"0 0 24 24\"\n",
              "       width=\"24px\">\n",
              "    <path d=\"M0 0h24v24H0V0z\" fill=\"none\"/>\n",
              "    <path d=\"M18.56 5.44l.94 2.06.94-2.06 2.06-.94-2.06-.94-.94-2.06-.94 2.06-2.06.94zm-11 1L8.5 8.5l.94-2.06 2.06-.94-2.06-.94L8.5 2.5l-.94 2.06-2.06.94zm10 10l.94 2.06.94-2.06 2.06-.94-2.06-.94-.94-2.06-.94 2.06-2.06.94z\"/><path d=\"M17.41 7.96l-1.37-1.37c-.4-.4-.92-.59-1.43-.59-.52 0-1.04.2-1.43.59L10.3 9.45l-7.72 7.72c-.78.78-.78 2.05 0 2.83L4 21.41c.39.39.9.59 1.41.59.51 0 1.02-.2 1.41-.59l7.78-7.78 2.81-2.81c.8-.78.8-2.07 0-2.86zM5.41 20L4 18.59l7.72-7.72 1.47 1.35L5.41 20z\"/>\n",
              "  </svg>\n",
              "      </button>\n",
              "      \n",
              "  <style>\n",
              "    .colab-df-container {\n",
              "      display:flex;\n",
              "      flex-wrap:wrap;\n",
              "      gap: 12px;\n",
              "    }\n",
              "\n",
              "    .colab-df-convert {\n",
              "      background-color: #E8F0FE;\n",
              "      border: none;\n",
              "      border-radius: 50%;\n",
              "      cursor: pointer;\n",
              "      display: none;\n",
              "      fill: #1967D2;\n",
              "      height: 32px;\n",
              "      padding: 0 0 0 0;\n",
              "      width: 32px;\n",
              "    }\n",
              "\n",
              "    .colab-df-convert:hover {\n",
              "      background-color: #E2EBFA;\n",
              "      box-shadow: 0px 1px 2px rgba(60, 64, 67, 0.3), 0px 1px 3px 1px rgba(60, 64, 67, 0.15);\n",
              "      fill: #174EA6;\n",
              "    }\n",
              "\n",
              "    [theme=dark] .colab-df-convert {\n",
              "      background-color: #3B4455;\n",
              "      fill: #D2E3FC;\n",
              "    }\n",
              "\n",
              "    [theme=dark] .colab-df-convert:hover {\n",
              "      background-color: #434B5C;\n",
              "      box-shadow: 0px 1px 3px 1px rgba(0, 0, 0, 0.15);\n",
              "      filter: drop-shadow(0px 1px 2px rgba(0, 0, 0, 0.3));\n",
              "      fill: #FFFFFF;\n",
              "    }\n",
              "  </style>\n",
              "\n",
              "      <script>\n",
              "        const buttonEl =\n",
              "          document.querySelector('#df-468dbe36-594e-4863-bd6d-12a549ad165d button.colab-df-convert');\n",
              "        buttonEl.style.display =\n",
              "          google.colab.kernel.accessAllowed ? 'block' : 'none';\n",
              "\n",
              "        async function convertToInteractive(key) {\n",
              "          const element = document.querySelector('#df-468dbe36-594e-4863-bd6d-12a549ad165d');\n",
              "          const dataTable =\n",
              "            await google.colab.kernel.invokeFunction('convertToInteractive',\n",
              "                                                     [key], {});\n",
              "          if (!dataTable) return;\n",
              "\n",
              "          const docLinkHtml = 'Like what you see? Visit the ' +\n",
              "            '<a target=\"_blank\" href=https://colab.research.google.com/notebooks/data_table.ipynb>data table notebook</a>'\n",
              "            + ' to learn more about interactive tables.';\n",
              "          element.innerHTML = '';\n",
              "          dataTable['output_type'] = 'display_data';\n",
              "          await google.colab.output.renderOutput(dataTable, element);\n",
              "          const docLink = document.createElement('div');\n",
              "          docLink.innerHTML = docLinkHtml;\n",
              "          element.appendChild(docLink);\n",
              "        }\n",
              "      </script>\n",
              "    </div>\n",
              "  </div>\n",
              "  "
            ]
          },
          "metadata": {}
        },
        {
          "output_type": "display_data",
          "data": {
            "text/plain": [
              "<Figure size 432x288 with 1 Axes>"
            ],
            "image/png": "[encoded data removed]"
          },
          "metadata": {
            "needs_background": "light"
          }
        }
      ]
    }
  ],
  "metadata": {
    "colab": {
      "collapsed_sections": [],
      "name": "estatística criminal",
      "provenance": [],
      "mount_file_id": "1u94ZLxjOOe-0rSGmiEAYJRAIX2DaEBRn",
      "authorship_tag": "ABX9TyPidPNL+WmWMBdo4PIfyAKm",
      "include_colab_link": true
    },
    "kernelspec": {
      "display_name": "Python 3",
      "name": "python3"
    },
    "language_info": {
      "name": "python"
    }
  },
  "nbformat": 4,
  "nbformat_minor": 0
}