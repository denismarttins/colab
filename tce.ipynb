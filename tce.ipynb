{
  "nbformat": 4,
  "nbformat_minor": 0,
  "metadata": {
    "colab": {
      "name": "tce",
      "provenance": [],
      "collapsed_sections": [],
      "authorship_tag": "ABX9TyNL0MdSGTdExkxHHFQgJRIl",
      "include_colab_link": true
    },
    "kernelspec": {
      "name": "python3",
      "display_name": "Python 3"
    },
    "language_info": {
      "name": "python"
    }
  },
  "cells": [
    {
      "cell_type": "markdown",
      "metadata": {
        "id": "view-in-github",
        "colab_type": "text"
      },
      "source": [
        "<a href=\"https://colab.research.google.com/github/denismarttins/colab/blob/main/tce.ipynb\" target=\"_parent\"><img src=\"https://colab.research.google.com/assets/colab-badge.svg\" alt=\"Open In Colab\"/></a>"
      ]
    },
    {
      "cell_type": "markdown",
      "source": [
        "1.   Importando a biblioteca **Pandas**\n",
        "2.   A origem dos dados: **API do Tribunal de Contas do Estado de São Paulo (TCE-SP)**\n",
        "3.   Declarando nossas **variáveis**\n",
        "4.   Concatenando as **variáveis na URL** e testando a URL (print)\n",
        "5.   Usando o Pandas para **exposição dos dados** \n",
        "6.   Tabela **interativa**"
      ],
      "metadata": {
        "id": "Gi4Gizcf0r-q"
      }
    },
    {
      "cell_type": "code",
      "execution_count": null,
      "metadata": {
        "id": "S8EmitM2Aiua"
      },
      "outputs": [],
      "source": [
        "from unicodedata import normalize\n",
        "import pandas as pd"
      ]
    },
    {
      "cell_type": "code",
      "source": [
        "#declarando as variáveis\n",
        "options = input('>Escolha despesas ou receitas: ')\n",
        "city = input('Digite o nome da cidade: ')\n",
        "year = input('Digite o ano: ')\n",
        "month = input('Digite o mês: ')"
      ],
      "metadata": {
        "colab": {
          "base_uri": "https://localhost:8080/"
        },
        "id": "HPLmZJJqAWWg",
        "outputId": "32264a51-83dd-4838-b44c-e70c72118976"
      },
      "execution_count": null,
      "outputs": [
        {
          "name": "stdout",
          "output_type": "stream",
          "text": [
            ">Escolha despesas ou receitas: despesas\n",
            "Digite o nome da cidade: americana\n",
            "Digite o ano: 2020\n",
            "Digite o mês: 04\n"
          ]
        }
      ]
    },
    {
      "cell_type": "code",
      "source": [
        "#concatenando a url\n",
        "url = 'https://transparencia.tce.sp.gov.br/api/xml/' + options + '/' + city + '/' + year + '/' + month\n",
        "df = pd.read_xml(url)\n",
        "\n",
        "#definir a estrutura de condicionais\n",
        "if options == 'despesas':\n",
        "  colunas = df[['mes','nm_fornecedor','dt_emissao_despesa','vl_despesa']]\n",
        "  display(colunas)\n",
        "else:\n",
        "  colunas = df[['mes','ds_fonte_recurso','ds_alinea','vl_arrecadacao']]\n",
        "  display(colunas)"
      ],
      "metadata": {
        "colab": {
          "base_uri": "https://localhost:8080/",
          "height": 655
        },
        "id": "pygXbjPBBF3g",
        "outputId": "54060a37-3ee0-40a6-a984-180ccd420c19"
      },
      "execution_count": null,
      "outputs": [
        {
          "output_type": "display_data",
          "data": {
            "text/plain": [
              "        mes                             nm_fornecedor dt_emissao_despesa  \\\n",
              "0     Abril                   M A GRANSOTI BATISTA ME         15/04/2020   \n",
              "1     Abril                        FOLHA DE PAGAMENTO         08/04/2020   \n",
              "2     Abril         CCM   COMERCIAL CREME MARFIM LTDA         16/04/2020   \n",
              "3     Abril                   TERCIO ADRIANO DA SILVA         02/04/2020   \n",
              "4     Abril                        FOLHA DE PAGAMENTO         30/04/2020   \n",
              "...     ...                                       ...                ...   \n",
              "7504  Abril         FOLHA DE PAGAMENTO - PENSIONISTAS         30/04/2020   \n",
              "7505  Abril                        FOLHA DE PAGAMENTO         30/04/2020   \n",
              "7506  Abril    LYRA CAVALCANTE SERVIÇOS MÉDICOS LTDA.         06/04/2020   \n",
              "7507  Abril                        FOLHA DE PAGAMENTO         30/04/2020   \n",
              "7508  Abril  UNIVERSALPREV SOFTWARE  E CONSULTORIA LT         16/04/2020   \n",
              "\n",
              "     vl_despesa  \n",
              "0        216,00  \n",
              "1       1388,91  \n",
              "2         50,24  \n",
              "3       2077,93  \n",
              "4      46547,13  \n",
              "...         ...  \n",
              "7504   77531,27  \n",
              "7505    2440,00  \n",
              "7506    1500,00  \n",
              "7507     610,00  \n",
              "7508    1600,00  \n",
              "\n",
              "[7509 rows x 4 columns]"
            ],
            "text/html": [
              "\n",
              "  <div id=\"df-5ff12ee2-6509-4b46-8ac7-0de0005686af\">\n",
              "    <div class=\"colab-df-container\">\n",
              "      <div>\n",
              "<style scoped>\n",
              "    .dataframe tbody tr th:only-of-type {\n",
              "        vertical-align: middle;\n",
              "    }\n",
              "\n",
              "    .dataframe tbody tr th {\n",
              "        vertical-align: top;\n",
              "    }\n",
              "\n",
              "    .dataframe thead th {\n",
              "        text-align: right;\n",
              "    }\n",
              "</style>\n",
              "<table border=\"1\" class=\"dataframe\">\n",
              "  <thead>\n",
              "    <tr style=\"text-align: right;\">\n",
              "      <th></th>\n",
              "      <th>mes</th>\n",
              "      <th>nm_fornecedor</th>\n",
              "      <th>dt_emissao_despesa</th>\n",
              "      <th>vl_despesa</th>\n",
              "    </tr>\n",
              "  </thead>\n",
              "  <tbody>\n",
              "    <tr>\n",
              "      <th>0</th>\n",
              "      <td>Abril</td>\n",
              "      <td>M A GRANSOTI BATISTA ME</td>\n",
              "      <td>15/04/2020</td>\n",
              "      <td>216,00</td>\n",
              "    </tr>\n",
              "    <tr>\n",
              "      <th>1</th>\n",
              "      <td>Abril</td>\n",
              "      <td>FOLHA DE PAGAMENTO</td>\n",
              "      <td>08/04/2020</td>\n",
              "      <td>1388,91</td>\n",
              "    </tr>\n",
              "    <tr>\n",
              "      <th>2</th>\n",
              "      <td>Abril</td>\n",
              "      <td>CCM   COMERCIAL CREME MARFIM LTDA</td>\n",
              "      <td>16/04/2020</td>\n",
              "      <td>50,24</td>\n",
              "    </tr>\n",
              "    <tr>\n",
              "      <th>3</th>\n",
              "      <td>Abril</td>\n",
              "      <td>TERCIO ADRIANO DA SILVA</td>\n",
              "      <td>02/04/2020</td>\n",
              "      <td>2077,93</td>\n",
              "    </tr>\n",
              "    <tr>\n",
              "      <th>4</th>\n",
              "      <td>Abril</td>\n",
              "      <td>FOLHA DE PAGAMENTO</td>\n",
              "      <td>30/04/2020</td>\n",
              "      <td>46547,13</td>\n",
              "    </tr>\n",
              "    <tr>\n",
              "      <th>...</th>\n",
              "      <td>...</td>\n",
              "      <td>...</td>\n",
              "      <td>...</td>\n",
              "      <td>...</td>\n",
              "    </tr>\n",
              "    <tr>\n",
              "      <th>7504</th>\n",
              "      <td>Abril</td>\n",
              "      <td>FOLHA DE PAGAMENTO - PENSIONISTAS</td>\n",
              "      <td>30/04/2020</td>\n",
              "      <td>77531,27</td>\n",
              "    </tr>\n",
              "    <tr>\n",
              "      <th>7505</th>\n",
              "      <td>Abril</td>\n",
              "      <td>FOLHA DE PAGAMENTO</td>\n",
              "      <td>30/04/2020</td>\n",
              "      <td>2440,00</td>\n",
              "    </tr>\n",
              "    <tr>\n",
              "      <th>7506</th>\n",
              "      <td>Abril</td>\n",
              "      <td>LYRA CAVALCANTE SERVIÇOS MÉDICOS LTDA.</td>\n",
              "      <td>06/04/2020</td>\n",
              "      <td>1500,00</td>\n",
              "    </tr>\n",
              "    <tr>\n",
              "      <th>7507</th>\n",
              "      <td>Abril</td>\n",
              "      <td>FOLHA DE PAGAMENTO</td>\n",
              "      <td>30/04/2020</td>\n",
              "      <td>610,00</td>\n",
              "    </tr>\n",
              "    <tr>\n",
              "      <th>7508</th>\n",
              "      <td>Abril</td>\n",
              "      <td>UNIVERSALPREV SOFTWARE  E CONSULTORIA LT</td>\n",
              "      <td>16/04/2020</td>\n",
              "      <td>1600,00</td>\n",
              "    </tr>\n",
              "  </tbody>\n",
              "</table>\n",
              "<p>7509 rows × 4 columns</p>\n",
              "</div>\n",
              "      <button class=\"colab-df-convert\" onclick=\"convertToInteractive('df-5ff12ee2-6509-4b46-8ac7-0de0005686af')\"\n",
              "              title=\"Convert this dataframe to an interactive table.\"\n",
              "              style=\"display:none;\">\n",
              "        \n",
              "  <svg xmlns=\"http://www.w3.org/2000/svg\" height=\"24px\"viewBox=\"0 0 24 24\"\n",
              "       width=\"24px\">\n",
              "    <path d=\"M0 0h24v24H0V0z\" fill=\"none\"/>\n",
              "    <path d=\"M18.56 5.44l.94 2.06.94-2.06 2.06-.94-2.06-.94-.94-2.06-.94 2.06-2.06.94zm-11 1L8.5 8.5l.94-2.06 2.06-.94-2.06-.94L8.5 2.5l-.94 2.06-2.06.94zm10 10l.94 2.06.94-2.06 2.06-.94-2.06-.94-.94-2.06-.94 2.06-2.06.94z\"/><path d=\"M17.41 7.96l-1.37-1.37c-.4-.4-.92-.59-1.43-.59-.52 0-1.04.2-1.43.59L10.3 9.45l-7.72 7.72c-.78.78-.78 2.05 0 2.83L4 21.41c.39.39.9.59 1.41.59.51 0 1.02-.2 1.41-.59l7.78-7.78 2.81-2.81c.8-.78.8-2.07 0-2.86zM5.41 20L4 18.59l7.72-7.72 1.47 1.35L5.41 20z\"/>\n",
              "  </svg>\n",
              "      </button>\n",
              "      \n",
              "  <style>\n",
              "    .colab-df-container {\n",
              "      display:flex;\n",
              "      flex-wrap:wrap;\n",
              "      gap: 12px;\n",
              "    }\n",
              "\n",
              "    .colab-df-convert {\n",
              "      background-color: #E8F0FE;\n",
              "      border: none;\n",
              "      border-radius: 50%;\n",
              "      cursor: pointer;\n",
              "      display: none;\n",
              "      fill: #1967D2;\n",
              "      height: 32px;\n",
              "      padding: 0 0 0 0;\n",
              "      width: 32px;\n",
              "    }\n",
              "\n",
              "    .colab-df-convert:hover {\n",
              "      background-color: #E2EBFA;\n",
              "      box-shadow: 0px 1px 2px rgba(60, 64, 67, 0.3), 0px 1px 3px 1px rgba(60, 64, 67, 0.15);\n",
              "      fill: #174EA6;\n",
              "    }\n",
              "\n",
              "    [theme=dark] .colab-df-convert {\n",
              "      background-color: #3B4455;\n",
              "      fill: #D2E3FC;\n",
              "    }\n",
              "\n",
              "    [theme=dark] .colab-df-convert:hover {\n",
              "      background-color: #434B5C;\n",
              "      box-shadow: 0px 1px 3px 1px rgba(0, 0, 0, 0.15);\n",
              "      filter: drop-shadow(0px 1px 2px rgba(0, 0, 0, 0.3));\n",
              "      fill: #FFFFFF;\n",
              "    }\n",
              "  </style>\n",
              "\n",
              "      <script>\n",
              "        const buttonEl =\n",
              "          document.querySelector('#df-5ff12ee2-6509-4b46-8ac7-0de0005686af button.colab-df-convert');\n",
              "        buttonEl.style.display =\n",
              "          google.colab.kernel.accessAllowed ? 'block' : 'none';\n",
              "\n",
              "        async function convertToInteractive(key) {\n",
              "          const element = document.querySelector('#df-5ff12ee2-6509-4b46-8ac7-0de0005686af');\n",
              "          const dataTable =\n",
              "            await google.colab.kernel.invokeFunction('convertToInteractive',\n",
              "                                                     [key], {});\n",
              "          if (!dataTable) return;\n",
              "\n",
              "          const docLinkHtml = 'Like what you see? Visit the ' +\n",
              "            '<a target=\"_blank\" href=https://colab.research.google.com/notebooks/data_table.ipynb>data table notebook</a>'\n",
              "            + ' to learn more about interactive tables.';\n",
              "          element.innerHTML = '';\n",
              "          dataTable['output_type'] = 'display_data';\n",
              "          await google.colab.output.renderOutput(dataTable, element);\n",
              "          const docLink = document.createElement('div');\n",
              "          docLink.innerHTML = docLinkHtml;\n",
              "          element.appendChild(docLink);\n",
              "        }\n",
              "      </script>\n",
              "    </div>\n",
              "  </div>\n",
              "  "
            ]
          },
          "metadata": {}
        }
      ]
    },
    {
      "cell_type": "code",
      "source": [
        ""
      ],
      "metadata": {
        "id": "yBfJFuTWCciR"
      },
      "execution_count": null,
      "outputs": []
    }
  ]
}