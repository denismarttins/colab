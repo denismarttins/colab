{
  "nbformat": 4,
  "nbformat_minor": 0,
  "metadata": {
    "colab": {
      "name": "Atividade_parlamentar ",
      "provenance": [],
      "collapsed_sections": [],
      "authorship_tag": "ABX9TyOxy0MXU4FCUKCzBh6wqmB3",
      "include_colab_link": true
    },
    "kernelspec": {
      "name": "python3",
      "display_name": "Python 3"
    },
    "language_info": {
      "name": "python"
    }
  },
  "cells": [
    {
      "cell_type": "markdown",
      "metadata": {
        "id": "view-in-github",
        "colab_type": "text"
      },
      "source": [
        "<a href=\"https://colab.research.google.com/github/denismarttins/colab/blob/main/Atividade_parlamentar.ipynb\" target=\"_parent\"><img src=\"https://colab.research.google.com/assets/colab-badge.svg\" alt=\"Open In Colab\"/></a>"
      ]
    },
    {
      "cell_type": "markdown",
      "source": [
        "**Código para verificar atividade parlamentar de três municípios: Limeira, Iracemápolis e Cordeirópolis**"
      ],
      "metadata": {
        "id": "Jv84dO4vv0Dn"
      }
    },
    {
      "cell_type": "code",
      "execution_count": null,
      "metadata": {
        "id": "S8EmitM2Aiua"
      },
      "outputs": [],
      "source": [
        "import pandas as pd\n",
        "from unicodedata import normalize"
      ]
    },
    {
      "cell_type": "code",
      "source": [
        "#dicionário com os códigos de cada vereador; o código é identado na URL dentro da função 'cidade'\n",
        "vereadores_limeira = {\"airton\":6693, \"betinho\":6691,\"anderson\":5956,\"constancia\":5960,\"elias\":6695,\"everton\":6697,\"francisco\":6699,\"helder\":5962,\"isabelly\":6696,\"joao\":6698,\"ju\":64,\"jose\":67,\"julio\":69,\"lucineis\":20,\"marco\":5964,\"mariana\":6692,\"nilton\":24,\"sidney\":28,\"tatiane\":6694,\"terezinha\":6725,\"wagner\":5967 }\n",
        "vereadores_cordeiropolis = {\"anderson\": 43, \"carlos\":35, \"david\":2517, \"diego\":2516,\"jose\":1804,\"mariana\":1781,\"neusa\":2517,\"paulo\":2261,\"sergio\":49}\n",
        "vereadores_iracemapolis = {\"alailson\":1356, \"alexandre\":1253, \"braulio\": 1357, \"carlos\":1358, \"claudio\":20, \"daniel\":1359, \"fabio\":1360, \"gesiel\":1361,\"jean\":1361, \"valdenito\":29, \"vitor\":1363, \"william\": 30}"
      ],
      "metadata": {
        "id": "ECrSo5QrCqJk"
      },
      "execution_count": null,
      "outputs": []
    },
    {
      "cell_type": "code",
      "source": [
        "def cidade (municipio):\n",
        "  if municipio == \"Limeira\":\n",
        "    print(vereadores_limeira.keys())\n",
        "    vereador_nome = input(\"Digite o nome do vereador, conforme exibido acima: \")\n",
        "    vereador_escolhido = str(vereadores_limeira[vereador_nome])\n",
        "    url = 'http://consulta.limeira.sp.leg.br/Vereadores/Contagem/' + vereador_escolhido\n",
        "    print(\"Dados do vereador (a): \" + vereador_nome)\n",
        "    dados = pd.read_html(url, parse_dates=True)\n",
        "  elif municipio == \"Cordeirópolis\":\n",
        "    print(vereadores_cordeiropolis.keys())\n",
        "    vereador_nome = input(\"Digite o nome do vereador, conforme exibido acima: \")\n",
        "    vereador_escolhido = str(vereadores_cordeiropolis[vereador_nome])\n",
        "    url = 'https://cordeiropolis.siscam.com.br/Vereadores/Contagem/' + vereador_escolhido\n",
        "    print(\"Dados do vereador (a): \" + vereador_nome)\n",
        "    dados = pd.read_html(url, parse_dates=True)\n",
        "  else:\n",
        "    print(vereadores_iracemapolis.keys())\n",
        "    vereador_nome = input(\"Digite o nome do vereador, conforme exibido acima: \")\n",
        "    vereador_escolhido = str(vereadores_iracemapolis[vereador_nome])\n",
        "    url = 'https://iracemapolis.siscam.com.br/Vereadores/Contagem/' + vereador_escolhido\n",
        "    print(\"Dados do vereador (a): \" + vereador_nome)\n",
        "    dados = pd.read_html(url, parse_dates=True)\n",
        "  return dados[0]"
      ],
      "metadata": {
        "id": "9Cx9mVXDr37E"
      },
      "execution_count": null,
      "outputs": []
    },
    {
      "cell_type": "code",
      "source": [
        "defina_cidade = input(\"Escolha a cidade:\" \"\\nLimeira | Iracemápolis | Cordeirópolis: \\n\")"
      ],
      "metadata": {
        "id": "fCV0y6xYOhbV",
        "colab": {
          "base_uri": "https://localhost:8080/"
        },
        "outputId": "63100164-f672-465a-c4b4-32055be12ee4"
      },
      "execution_count": null,
      "outputs": [
        {
          "name": "stdout",
          "output_type": "stream",
          "text": [
            "Escolha a cidade:\n",
            "Limeira | Iracemápolis | Cordeirópolis: \n",
            "Cordeirópolis\n"
          ]
        }
      ]
    },
    {
      "cell_type": "code",
      "source": [
        "cidade(defina_cidade)"
      ],
      "metadata": {
        "id": "zHYIFu5Cb8xG"
      },
      "execution_count": null,
      "outputs": []
    }
  ]
}